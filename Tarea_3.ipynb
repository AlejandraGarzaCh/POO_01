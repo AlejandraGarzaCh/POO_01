{
  "nbformat": 4,
  "nbformat_minor": 0,
  "metadata": {
    "colab": {
      "provenance": []
    },
    "kernelspec": {
      "name": "python3",
      "display_name": "Python 3"
    },
    "language_info": {
      "name": "python"
    }
  },
  "cells": [
    {
      "cell_type": "code",
      "source": [
        "import pandas as pd"
      ],
      "metadata": {
        "id": "t47UW3AyFRq-"
      },
      "execution_count": 4,
      "outputs": []
    },
    {
      "cell_type": "code",
      "source": [
        "import numpy as np"
      ],
      "metadata": {
        "id": "glH9avpKFUCB"
      },
      "execution_count": 6,
      "outputs": []
    },
    {
      "cell_type": "code",
      "execution_count": 15,
      "metadata": {
        "colab": {
          "base_uri": "https://localhost:8080/"
        },
        "id": "13s49SrNDr-7",
        "outputId": "95bde71f-5bba-4237-ee96-684b20662906"
      },
      "outputs": [
        {
          "output_type": "execute_result",
          "data": {
            "text/plain": [
              "array([ 0,  0, -1, -1, -1, -1,  0, -1, -1,  0, -1, -1, -1, -1, -1,  0,  0,\n",
              "        0,  0,  0])"
            ]
          },
          "metadata": {},
          "execution_count": 15
        }
      ],
      "source": [
        "#1. Genera una lista que consista de  20  números que estén en el intervalo  [−1,1] . Llámala Lista_1.\n",
        "Lista_1 = np.random.randint(-1,1,20)\n",
        "Lista_1"
      ]
    },
    {
      "cell_type": "code",
      "source": [
        "#2. Genera una lista que consista de  20  números que sean enteros en el intervalo  [1500,3000] . Llámala Lista_2.\n",
        "Lista_2 = np.random.randint(1500,3000, 20)\n",
        "Lista_2"
      ],
      "metadata": {
        "colab": {
          "base_uri": "https://localhost:8080/"
        },
        "id": "vOf7FKjQFFVu",
        "outputId": "3136299e-43a1-4b39-9863-0df48a0109fc"
      },
      "execution_count": 17,
      "outputs": [
        {
          "output_type": "execute_result",
          "data": {
            "text/plain": [
              "array([2684, 1540, 1883, 2159, 2353, 2304, 2513, 2321, 2381, 1554, 2790,\n",
              "       2029, 1902, 2516, 1697, 1776, 2438, 2531, 1780, 2587])"
            ]
          },
          "metadata": {},
          "execution_count": 17
        }
      ]
    },
    {
      "cell_type": "code",
      "source": [
        "#3. Crea un diccionario cuyas llaves sean \"CapSmall\" y \"CapLarge\" y sus valores sean la Lista_1 y Lista_2, respectivamente.\n",
        "diccionario = {\"CapSmall\": Lista_1,\n",
        "               \"CapLarge\": Lista_2}\n",
        "import pandas as pd"
      ],
      "metadata": {
        "id": "xT36DiOHGnd3"
      },
      "execution_count": 19,
      "outputs": []
    },
    {
      "cell_type": "code",
      "source": [
        "#4. Crea un DataFrame a partir del diccionario del punto anterior. Llámalo df.\n",
        "df = pd.DataFrame(diccionario)"
      ],
      "metadata": {
        "id": "AqreddDxG64G"
      },
      "execution_count": 20,
      "outputs": []
    },
    {
      "cell_type": "code",
      "source": [
        "#5. Reindexa los índices poniendo Año 1 ,...,  Año 20.\n",
        "df.rename(index={0: 'Año 1', 1:'Año 2', 2:'Año 3', 3:'Año 4', 4:'Año 5', 5:'Año 6', 6:'Año 7', 7:'Año 8', 8: 'Año 9', 9: 'Año 10', 10: 'Año 11', 11: 'Año 12', 12:'Año 13', 13:'Año 14', 14:'Año 15', 15:'Año 16', 16:'Año 17', 17:'Año 18', 18: 'Año 19', 19:'Año 20'}, inplace=True)\n",
        "df"
      ],
      "metadata": {
        "colab": {
          "base_uri": "https://localhost:8080/",
          "height": 669
        },
        "id": "l4G1H8QwHQYR",
        "outputId": "c7d288b0-6de4-4b6e-d4e0-d2bc65a880cd"
      },
      "execution_count": 34,
      "outputs": [
        {
          "output_type": "execute_result",
          "data": {
            "text/plain": [
              "        CapSmall  CapLarge\n",
              "Año 1          0      2684\n",
              "Año 2          0      1540\n",
              "Año 3         -1      1883\n",
              "Año 4         -1      2159\n",
              "Año 5         -1      2353\n",
              "Año 6         -1      2304\n",
              "Año 7          0      2513\n",
              "Año 8         -1      2321\n",
              "Año 9         -1      2381\n",
              "Año 10         0      1554\n",
              "Año 11        -1      2790\n",
              "Año 12        -1      2029\n",
              "Año 13        -1      1902\n",
              "Año 14        -1      2516\n",
              "Año 15        -1      1697\n",
              "Año 16         0      1776\n",
              "Año 17         0      2438\n",
              "Año 18         0      2531\n",
              "Año 19         0      1780\n",
              "Año 20         0      2587"
            ],
            "text/html": [
              "\n",
              "  <div id=\"df-22485133-09aa-46cc-9c26-c8a15db32a04\" class=\"colab-df-container\">\n",
              "    <div>\n",
              "<style scoped>\n",
              "    .dataframe tbody tr th:only-of-type {\n",
              "        vertical-align: middle;\n",
              "    }\n",
              "\n",
              "    .dataframe tbody tr th {\n",
              "        vertical-align: top;\n",
              "    }\n",
              "\n",
              "    .dataframe thead th {\n",
              "        text-align: right;\n",
              "    }\n",
              "</style>\n",
              "<table border=\"1\" class=\"dataframe\">\n",
              "  <thead>\n",
              "    <tr style=\"text-align: right;\">\n",
              "      <th></th>\n",
              "      <th>CapSmall</th>\n",
              "      <th>CapLarge</th>\n",
              "    </tr>\n",
              "  </thead>\n",
              "  <tbody>\n",
              "    <tr>\n",
              "      <th>Año 1</th>\n",
              "      <td>0</td>\n",
              "      <td>2684</td>\n",
              "    </tr>\n",
              "    <tr>\n",
              "      <th>Año 2</th>\n",
              "      <td>0</td>\n",
              "      <td>1540</td>\n",
              "    </tr>\n",
              "    <tr>\n",
              "      <th>Año 3</th>\n",
              "      <td>-1</td>\n",
              "      <td>1883</td>\n",
              "    </tr>\n",
              "    <tr>\n",
              "      <th>Año 4</th>\n",
              "      <td>-1</td>\n",
              "      <td>2159</td>\n",
              "    </tr>\n",
              "    <tr>\n",
              "      <th>Año 5</th>\n",
              "      <td>-1</td>\n",
              "      <td>2353</td>\n",
              "    </tr>\n",
              "    <tr>\n",
              "      <th>Año 6</th>\n",
              "      <td>-1</td>\n",
              "      <td>2304</td>\n",
              "    </tr>\n",
              "    <tr>\n",
              "      <th>Año 7</th>\n",
              "      <td>0</td>\n",
              "      <td>2513</td>\n",
              "    </tr>\n",
              "    <tr>\n",
              "      <th>Año 8</th>\n",
              "      <td>-1</td>\n",
              "      <td>2321</td>\n",
              "    </tr>\n",
              "    <tr>\n",
              "      <th>Año 9</th>\n",
              "      <td>-1</td>\n",
              "      <td>2381</td>\n",
              "    </tr>\n",
              "    <tr>\n",
              "      <th>Año 10</th>\n",
              "      <td>0</td>\n",
              "      <td>1554</td>\n",
              "    </tr>\n",
              "    <tr>\n",
              "      <th>Año 11</th>\n",
              "      <td>-1</td>\n",
              "      <td>2790</td>\n",
              "    </tr>\n",
              "    <tr>\n",
              "      <th>Año 12</th>\n",
              "      <td>-1</td>\n",
              "      <td>2029</td>\n",
              "    </tr>\n",
              "    <tr>\n",
              "      <th>Año 13</th>\n",
              "      <td>-1</td>\n",
              "      <td>1902</td>\n",
              "    </tr>\n",
              "    <tr>\n",
              "      <th>Año 14</th>\n",
              "      <td>-1</td>\n",
              "      <td>2516</td>\n",
              "    </tr>\n",
              "    <tr>\n",
              "      <th>Año 15</th>\n",
              "      <td>-1</td>\n",
              "      <td>1697</td>\n",
              "    </tr>\n",
              "    <tr>\n",
              "      <th>Año 16</th>\n",
              "      <td>0</td>\n",
              "      <td>1776</td>\n",
              "    </tr>\n",
              "    <tr>\n",
              "      <th>Año 17</th>\n",
              "      <td>0</td>\n",
              "      <td>2438</td>\n",
              "    </tr>\n",
              "    <tr>\n",
              "      <th>Año 18</th>\n",
              "      <td>0</td>\n",
              "      <td>2531</td>\n",
              "    </tr>\n",
              "    <tr>\n",
              "      <th>Año 19</th>\n",
              "      <td>0</td>\n",
              "      <td>1780</td>\n",
              "    </tr>\n",
              "    <tr>\n",
              "      <th>Año 20</th>\n",
              "      <td>0</td>\n",
              "      <td>2587</td>\n",
              "    </tr>\n",
              "  </tbody>\n",
              "</table>\n",
              "</div>\n",
              "    <div class=\"colab-df-buttons\">\n",
              "\n",
              "  <div class=\"colab-df-container\">\n",
              "    <button class=\"colab-df-convert\" onclick=\"convertToInteractive('df-22485133-09aa-46cc-9c26-c8a15db32a04')\"\n",
              "            title=\"Convert this dataframe to an interactive table.\"\n",
              "            style=\"display:none;\">\n",
              "\n",
              "  <svg xmlns=\"http://www.w3.org/2000/svg\" height=\"24px\" viewBox=\"0 -960 960 960\">\n",
              "    <path d=\"M120-120v-720h720v720H120Zm60-500h600v-160H180v160Zm220 220h160v-160H400v160Zm0 220h160v-160H400v160ZM180-400h160v-160H180v160Zm440 0h160v-160H620v160ZM180-180h160v-160H180v160Zm440 0h160v-160H620v160Z\"/>\n",
              "  </svg>\n",
              "    </button>\n",
              "\n",
              "  <style>\n",
              "    .colab-df-container {\n",
              "      display:flex;\n",
              "      gap: 12px;\n",
              "    }\n",
              "\n",
              "    .colab-df-convert {\n",
              "      background-color: #E8F0FE;\n",
              "      border: none;\n",
              "      border-radius: 50%;\n",
              "      cursor: pointer;\n",
              "      display: none;\n",
              "      fill: #1967D2;\n",
              "      height: 32px;\n",
              "      padding: 0 0 0 0;\n",
              "      width: 32px;\n",
              "    }\n",
              "\n",
              "    .colab-df-convert:hover {\n",
              "      background-color: #E2EBFA;\n",
              "      box-shadow: 0px 1px 2px rgba(60, 64, 67, 0.3), 0px 1px 3px 1px rgba(60, 64, 67, 0.15);\n",
              "      fill: #174EA6;\n",
              "    }\n",
              "\n",
              "    .colab-df-buttons div {\n",
              "      margin-bottom: 4px;\n",
              "    }\n",
              "\n",
              "    [theme=dark] .colab-df-convert {\n",
              "      background-color: #3B4455;\n",
              "      fill: #D2E3FC;\n",
              "    }\n",
              "\n",
              "    [theme=dark] .colab-df-convert:hover {\n",
              "      background-color: #434B5C;\n",
              "      box-shadow: 0px 1px 3px 1px rgba(0, 0, 0, 0.15);\n",
              "      filter: drop-shadow(0px 1px 2px rgba(0, 0, 0, 0.3));\n",
              "      fill: #FFFFFF;\n",
              "    }\n",
              "  </style>\n",
              "\n",
              "    <script>\n",
              "      const buttonEl =\n",
              "        document.querySelector('#df-22485133-09aa-46cc-9c26-c8a15db32a04 button.colab-df-convert');\n",
              "      buttonEl.style.display =\n",
              "        google.colab.kernel.accessAllowed ? 'block' : 'none';\n",
              "\n",
              "      async function convertToInteractive(key) {\n",
              "        const element = document.querySelector('#df-22485133-09aa-46cc-9c26-c8a15db32a04');\n",
              "        const dataTable =\n",
              "          await google.colab.kernel.invokeFunction('convertToInteractive',\n",
              "                                                    [key], {});\n",
              "        if (!dataTable) return;\n",
              "\n",
              "        const docLinkHtml = 'Like what you see? Visit the ' +\n",
              "          '<a target=\"_blank\" href=https://colab.research.google.com/notebooks/data_table.ipynb>data table notebook</a>'\n",
              "          + ' to learn more about interactive tables.';\n",
              "        element.innerHTML = '';\n",
              "        dataTable['output_type'] = 'display_data';\n",
              "        await google.colab.output.renderOutput(dataTable, element);\n",
              "        const docLink = document.createElement('div');\n",
              "        docLink.innerHTML = docLinkHtml;\n",
              "        element.appendChild(docLink);\n",
              "      }\n",
              "    </script>\n",
              "  </div>\n",
              "\n",
              "\n",
              "<div id=\"df-66939d73-da20-4b0b-ab29-cf55761c45fe\">\n",
              "  <button class=\"colab-df-quickchart\" onclick=\"quickchart('df-66939d73-da20-4b0b-ab29-cf55761c45fe')\"\n",
              "            title=\"Suggest charts.\"\n",
              "            style=\"display:none;\">\n",
              "\n",
              "<svg xmlns=\"http://www.w3.org/2000/svg\" height=\"24px\"viewBox=\"0 0 24 24\"\n",
              "     width=\"24px\">\n",
              "    <g>\n",
              "        <path d=\"M19 3H5c-1.1 0-2 .9-2 2v14c0 1.1.9 2 2 2h14c1.1 0 2-.9 2-2V5c0-1.1-.9-2-2-2zM9 17H7v-7h2v7zm4 0h-2V7h2v10zm4 0h-2v-4h2v4z\"/>\n",
              "    </g>\n",
              "</svg>\n",
              "  </button>\n",
              "\n",
              "<style>\n",
              "  .colab-df-quickchart {\n",
              "    background-color: #E8F0FE;\n",
              "    border: none;\n",
              "    border-radius: 50%;\n",
              "    cursor: pointer;\n",
              "    display: none;\n",
              "    fill: #1967D2;\n",
              "    height: 32px;\n",
              "    padding: 0 0 0 0;\n",
              "    width: 32px;\n",
              "  }\n",
              "\n",
              "  .colab-df-quickchart:hover {\n",
              "    background-color: #E2EBFA;\n",
              "    box-shadow: 0px 1px 2px rgba(60, 64, 67, 0.3), 0px 1px 3px 1px rgba(60, 64, 67, 0.15);\n",
              "    fill: #174EA6;\n",
              "  }\n",
              "\n",
              "  [theme=dark] .colab-df-quickchart {\n",
              "    background-color: #3B4455;\n",
              "    fill: #D2E3FC;\n",
              "  }\n",
              "\n",
              "  [theme=dark] .colab-df-quickchart:hover {\n",
              "    background-color: #434B5C;\n",
              "    box-shadow: 0px 1px 3px 1px rgba(0, 0, 0, 0.15);\n",
              "    filter: drop-shadow(0px 1px 2px rgba(0, 0, 0, 0.3));\n",
              "    fill: #FFFFFF;\n",
              "  }\n",
              "</style>\n",
              "\n",
              "  <script>\n",
              "    async function quickchart(key) {\n",
              "      const charts = await google.colab.kernel.invokeFunction(\n",
              "          'suggestCharts', [key], {});\n",
              "    }\n",
              "    (() => {\n",
              "      let quickchartButtonEl =\n",
              "        document.querySelector('#df-66939d73-da20-4b0b-ab29-cf55761c45fe button');\n",
              "      quickchartButtonEl.style.display =\n",
              "        google.colab.kernel.accessAllowed ? 'block' : 'none';\n",
              "    })();\n",
              "  </script>\n",
              "</div>\n",
              "    </div>\n",
              "  </div>\n"
            ]
          },
          "metadata": {},
          "execution_count": 34
        }
      ]
    },
    {
      "cell_type": "code",
      "source": [
        "#Realiza una explicación de la estadística descriptiva de tu DataFrame.\n",
        "df.describe()"
      ],
      "metadata": {
        "colab": {
          "base_uri": "https://localhost:8080/",
          "height": 297
        },
        "id": "XTQuVpYMHXkZ",
        "outputId": "69d0f99c-be25-4223-8e38-0261520a0ba9"
      },
      "execution_count": 35,
      "outputs": [
        {
          "output_type": "execute_result",
          "data": {
            "text/plain": [
              "        CapSmall     CapLarge\n",
              "count  20.000000    20.000000\n",
              "mean   -0.550000  2186.900000\n",
              "std     0.510418   387.750992\n",
              "min    -1.000000  1540.000000\n",
              "25%    -1.000000  1857.250000\n",
              "50%    -1.000000  2312.500000\n",
              "75%     0.000000  2513.750000\n",
              "max     0.000000  2790.000000"
            ],
            "text/html": [
              "\n",
              "  <div id=\"df-eb15939a-f353-4365-a205-b5740a2829be\" class=\"colab-df-container\">\n",
              "    <div>\n",
              "<style scoped>\n",
              "    .dataframe tbody tr th:only-of-type {\n",
              "        vertical-align: middle;\n",
              "    }\n",
              "\n",
              "    .dataframe tbody tr th {\n",
              "        vertical-align: top;\n",
              "    }\n",
              "\n",
              "    .dataframe thead th {\n",
              "        text-align: right;\n",
              "    }\n",
              "</style>\n",
              "<table border=\"1\" class=\"dataframe\">\n",
              "  <thead>\n",
              "    <tr style=\"text-align: right;\">\n",
              "      <th></th>\n",
              "      <th>CapSmall</th>\n",
              "      <th>CapLarge</th>\n",
              "    </tr>\n",
              "  </thead>\n",
              "  <tbody>\n",
              "    <tr>\n",
              "      <th>count</th>\n",
              "      <td>20.000000</td>\n",
              "      <td>20.000000</td>\n",
              "    </tr>\n",
              "    <tr>\n",
              "      <th>mean</th>\n",
              "      <td>-0.550000</td>\n",
              "      <td>2186.900000</td>\n",
              "    </tr>\n",
              "    <tr>\n",
              "      <th>std</th>\n",
              "      <td>0.510418</td>\n",
              "      <td>387.750992</td>\n",
              "    </tr>\n",
              "    <tr>\n",
              "      <th>min</th>\n",
              "      <td>-1.000000</td>\n",
              "      <td>1540.000000</td>\n",
              "    </tr>\n",
              "    <tr>\n",
              "      <th>25%</th>\n",
              "      <td>-1.000000</td>\n",
              "      <td>1857.250000</td>\n",
              "    </tr>\n",
              "    <tr>\n",
              "      <th>50%</th>\n",
              "      <td>-1.000000</td>\n",
              "      <td>2312.500000</td>\n",
              "    </tr>\n",
              "    <tr>\n",
              "      <th>75%</th>\n",
              "      <td>0.000000</td>\n",
              "      <td>2513.750000</td>\n",
              "    </tr>\n",
              "    <tr>\n",
              "      <th>max</th>\n",
              "      <td>0.000000</td>\n",
              "      <td>2790.000000</td>\n",
              "    </tr>\n",
              "  </tbody>\n",
              "</table>\n",
              "</div>\n",
              "    <div class=\"colab-df-buttons\">\n",
              "\n",
              "  <div class=\"colab-df-container\">\n",
              "    <button class=\"colab-df-convert\" onclick=\"convertToInteractive('df-eb15939a-f353-4365-a205-b5740a2829be')\"\n",
              "            title=\"Convert this dataframe to an interactive table.\"\n",
              "            style=\"display:none;\">\n",
              "\n",
              "  <svg xmlns=\"http://www.w3.org/2000/svg\" height=\"24px\" viewBox=\"0 -960 960 960\">\n",
              "    <path d=\"M120-120v-720h720v720H120Zm60-500h600v-160H180v160Zm220 220h160v-160H400v160Zm0 220h160v-160H400v160ZM180-400h160v-160H180v160Zm440 0h160v-160H620v160ZM180-180h160v-160H180v160Zm440 0h160v-160H620v160Z\"/>\n",
              "  </svg>\n",
              "    </button>\n",
              "\n",
              "  <style>\n",
              "    .colab-df-container {\n",
              "      display:flex;\n",
              "      gap: 12px;\n",
              "    }\n",
              "\n",
              "    .colab-df-convert {\n",
              "      background-color: #E8F0FE;\n",
              "      border: none;\n",
              "      border-radius: 50%;\n",
              "      cursor: pointer;\n",
              "      display: none;\n",
              "      fill: #1967D2;\n",
              "      height: 32px;\n",
              "      padding: 0 0 0 0;\n",
              "      width: 32px;\n",
              "    }\n",
              "\n",
              "    .colab-df-convert:hover {\n",
              "      background-color: #E2EBFA;\n",
              "      box-shadow: 0px 1px 2px rgba(60, 64, 67, 0.3), 0px 1px 3px 1px rgba(60, 64, 67, 0.15);\n",
              "      fill: #174EA6;\n",
              "    }\n",
              "\n",
              "    .colab-df-buttons div {\n",
              "      margin-bottom: 4px;\n",
              "    }\n",
              "\n",
              "    [theme=dark] .colab-df-convert {\n",
              "      background-color: #3B4455;\n",
              "      fill: #D2E3FC;\n",
              "    }\n",
              "\n",
              "    [theme=dark] .colab-df-convert:hover {\n",
              "      background-color: #434B5C;\n",
              "      box-shadow: 0px 1px 3px 1px rgba(0, 0, 0, 0.15);\n",
              "      filter: drop-shadow(0px 1px 2px rgba(0, 0, 0, 0.3));\n",
              "      fill: #FFFFFF;\n",
              "    }\n",
              "  </style>\n",
              "\n",
              "    <script>\n",
              "      const buttonEl =\n",
              "        document.querySelector('#df-eb15939a-f353-4365-a205-b5740a2829be button.colab-df-convert');\n",
              "      buttonEl.style.display =\n",
              "        google.colab.kernel.accessAllowed ? 'block' : 'none';\n",
              "\n",
              "      async function convertToInteractive(key) {\n",
              "        const element = document.querySelector('#df-eb15939a-f353-4365-a205-b5740a2829be');\n",
              "        const dataTable =\n",
              "          await google.colab.kernel.invokeFunction('convertToInteractive',\n",
              "                                                    [key], {});\n",
              "        if (!dataTable) return;\n",
              "\n",
              "        const docLinkHtml = 'Like what you see? Visit the ' +\n",
              "          '<a target=\"_blank\" href=https://colab.research.google.com/notebooks/data_table.ipynb>data table notebook</a>'\n",
              "          + ' to learn more about interactive tables.';\n",
              "        element.innerHTML = '';\n",
              "        dataTable['output_type'] = 'display_data';\n",
              "        await google.colab.output.renderOutput(dataTable, element);\n",
              "        const docLink = document.createElement('div');\n",
              "        docLink.innerHTML = docLinkHtml;\n",
              "        element.appendChild(docLink);\n",
              "      }\n",
              "    </script>\n",
              "  </div>\n",
              "\n",
              "\n",
              "<div id=\"df-48e69254-3c5f-403c-9dcc-7ed50de78e20\">\n",
              "  <button class=\"colab-df-quickchart\" onclick=\"quickchart('df-48e69254-3c5f-403c-9dcc-7ed50de78e20')\"\n",
              "            title=\"Suggest charts.\"\n",
              "            style=\"display:none;\">\n",
              "\n",
              "<svg xmlns=\"http://www.w3.org/2000/svg\" height=\"24px\"viewBox=\"0 0 24 24\"\n",
              "     width=\"24px\">\n",
              "    <g>\n",
              "        <path d=\"M19 3H5c-1.1 0-2 .9-2 2v14c0 1.1.9 2 2 2h14c1.1 0 2-.9 2-2V5c0-1.1-.9-2-2-2zM9 17H7v-7h2v7zm4 0h-2V7h2v10zm4 0h-2v-4h2v4z\"/>\n",
              "    </g>\n",
              "</svg>\n",
              "  </button>\n",
              "\n",
              "<style>\n",
              "  .colab-df-quickchart {\n",
              "    background-color: #E8F0FE;\n",
              "    border: none;\n",
              "    border-radius: 50%;\n",
              "    cursor: pointer;\n",
              "    display: none;\n",
              "    fill: #1967D2;\n",
              "    height: 32px;\n",
              "    padding: 0 0 0 0;\n",
              "    width: 32px;\n",
              "  }\n",
              "\n",
              "  .colab-df-quickchart:hover {\n",
              "    background-color: #E2EBFA;\n",
              "    box-shadow: 0px 1px 2px rgba(60, 64, 67, 0.3), 0px 1px 3px 1px rgba(60, 64, 67, 0.15);\n",
              "    fill: #174EA6;\n",
              "  }\n",
              "\n",
              "  [theme=dark] .colab-df-quickchart {\n",
              "    background-color: #3B4455;\n",
              "    fill: #D2E3FC;\n",
              "  }\n",
              "\n",
              "  [theme=dark] .colab-df-quickchart:hover {\n",
              "    background-color: #434B5C;\n",
              "    box-shadow: 0px 1px 3px 1px rgba(0, 0, 0, 0.15);\n",
              "    filter: drop-shadow(0px 1px 2px rgba(0, 0, 0, 0.3));\n",
              "    fill: #FFFFFF;\n",
              "  }\n",
              "</style>\n",
              "\n",
              "  <script>\n",
              "    async function quickchart(key) {\n",
              "      const charts = await google.colab.kernel.invokeFunction(\n",
              "          'suggestCharts', [key], {});\n",
              "    }\n",
              "    (() => {\n",
              "      let quickchartButtonEl =\n",
              "        document.querySelector('#df-48e69254-3c5f-403c-9dcc-7ed50de78e20 button');\n",
              "      quickchartButtonEl.style.display =\n",
              "        google.colab.kernel.accessAllowed ? 'block' : 'none';\n",
              "    })();\n",
              "  </script>\n",
              "</div>\n",
              "    </div>\n",
              "  </div>\n"
            ]
          },
          "metadata": {},
          "execution_count": 35
        }
      ]
    },
    {
      "cell_type": "code",
      "source": [
        "#¿Cuál es el valor mínimo de la columna \"CapSmall\"?\n",
        "minvalue = df[\"CapSmall\"].min()\n",
        "minvalue"
      ],
      "metadata": {
        "colab": {
          "base_uri": "https://localhost:8080/"
        },
        "id": "JITFBSKGLXVX",
        "outputId": "b54bc36a-e868-43e4-e5b7-7b05a5f1325a"
      },
      "execution_count": 37,
      "outputs": [
        {
          "output_type": "execute_result",
          "data": {
            "text/plain": [
              "-1"
            ]
          },
          "metadata": {},
          "execution_count": 37
        }
      ]
    },
    {
      "cell_type": "code",
      "source": [
        "#¿Cuál es \"CapLarge\" promedio del año 10 al año 20.\n",
        "promedio = df['CapLarge'].mean()\n",
        "promedio\n",
        "#Pude sacar el promedio de caplarge pero no solamente del año 10 a 20"
      ],
      "metadata": {
        "colab": {
          "base_uri": "https://localhost:8080/"
        },
        "id": "QTHOXNIZMXLB",
        "outputId": "c950e117-6198-4576-96de-df4606b6ff0b"
      },
      "execution_count": 41,
      "outputs": [
        {
          "output_type": "execute_result",
          "data": {
            "text/plain": [
              "2186.9"
            ]
          },
          "metadata": {},
          "execution_count": 41
        }
      ]
    },
    {
      "cell_type": "code",
      "source": [
        "#Realiza una gráfica de Año contra \"CapLarge\".\n",
        "df[\"CapLarge\"].plot(label=\"df\", figsize = (15,8))"
      ],
      "metadata": {
        "colab": {
          "base_uri": "https://localhost:8080/",
          "height": 693
        },
        "id": "i1I2QcuRNI0r",
        "outputId": "bdc2c9e3-947e-44f8-f365-f7e513d5c609"
      },
      "execution_count": 44,
      "outputs": [
        {
          "output_type": "execute_result",
          "data": {
            "text/plain": [
              "<Axes: >"
            ]
          },
          "metadata": {},
          "execution_count": 44
        },
        {
          "output_type": "display_data",
          "data": {
            "text/plain": [
              "<Figure size 1500x800 with 1 Axes>"
            ],
            "image/png": "[encoded data removed]"
          },
          "metadata": {}
        }
      ]
    },
    {
      "cell_type": "code",
      "source": [
        "#Muestra el DataFrame que obtienes si tomas aquellos valores de \"CapLarge\" mayores a  2000 . ¿Cuál es la dimensión (shape) de tu nueva base de datos?\n"
      ],
      "metadata": {
        "id": "X-OKQu4hOFin"
      },
      "execution_count": 63,
      "outputs": []
    }
  ]
}