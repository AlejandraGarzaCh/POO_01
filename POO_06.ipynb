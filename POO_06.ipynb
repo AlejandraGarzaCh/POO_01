{
  "nbformat": 4,
  "nbformat_minor": 0,
  "metadata": {
    "colab": {
      "provenance": []
    },
    "kernelspec": {
      "name": "python3",
      "display_name": "Python 3"
    },
    "language_info": {
      "name": "python"
    }
  },
  "cells": [
    {
      "cell_type": "markdown",
      "source": [
        "#Condicionales\n"
      ],
      "metadata": {
        "id": "d8aoQkRMXvVV"
      }
    },
    {
      "cell_type": "code",
      "source": [
        "#if(condition):\n",
        "#   #executes this block if\n",
        "#   #condition is true\n",
        "#else: (si la condición no se satisface)\n",
        "#   #executes this block if\n",
        "#   #condition is false"
      ],
      "metadata": {
        "id": "8tfk6RqnXz4d"
      },
      "execution_count": null,
      "outputs": []
    },
    {
      "cell_type": "code",
      "source": [
        "#Ejemplo\n",
        "x = 34\n",
        "\n",
        "if x % 2 == 0:\n",
        "  if x > 10:\n",
        "    print (\"El número es par y es mayor a 10\")\n",
        "  else:\n",
        "    print(\"El número es par pero no es mayor a 10\")\n",
        "else:\n",
        "  print(\"El numero no es par\")\n"
      ],
      "metadata": {
        "colab": {
          "base_uri": "https://localhost:8080/"
        },
        "id": "1kI7xDlZYYmw",
        "outputId": "9972e98b-3bbc-4211-cc8e-a57901e8a1bf"
      },
      "execution_count": null,
      "outputs": [
        {
          "output_type": "stream",
          "name": "stdout",
          "text": [
            "El número es par y es mayor a 10\n"
          ]
        }
      ]
    },
    {
      "cell_type": "code",
      "source": [],
      "metadata": {
        "id": "ur8U1_c4aMgS"
      },
      "execution_count": null,
      "outputs": []
    }
  ]
}