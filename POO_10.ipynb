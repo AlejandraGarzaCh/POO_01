{
  "nbformat": 4,
  "nbformat_minor": 0,
  "metadata": {
    "colab": {
      "provenance": []
    },
    "kernelspec": {
      "name": "python3",
      "display_name": "Python 3"
    },
    "language_info": {
      "name": "python"
    }
  },
  "cells": [
    {
      "cell_type": "code",
      "source": [
        "# Class CuentaBancaria es la clase madre\n",
        "# No tiene parentesis porque es innecesario\n",
        "# La clase tiene 4 argumentos\n",
        "# Autollamamos todos los argumentos con self.\n",
        "\n",
        "class CuentaBancaria:\n",
        "    def __init__(self, cuenta_no, fecha_de_apertura, balance, cliente):\n",
        "        self.cuenta_no = cuenta_no\n",
        "        self.fecha_de_apertura  = fecha_de_apertura\n",
        "        self.balance = balance\n",
        "        self.cliente = cliente\n",
        "\n",
        "# A partir de aqui empiezan los atributos, metodos o definiciones\n",
        "# Defino monto aqui porque no esta definido en la clase madre\n",
        "# El simbolo += va a cambiar el balance al monto, aumentando el valor del monto\n",
        "# La f sirve para jalar los datos de la definición\n",
        "    def deposito(self, monto):\n",
        "        self.balance += monto\n",
        "        print(f\"${monto} ha sido depositado a tu cuenta.\")\n",
        "\n",
        "# Esta definición ya contiene condiciones con if y else\n",
        "# El simbolo -= va a cambiar el balance al monto, disminuyendo el valor del monto\n",
        "    def seleccionar(self, monto):\n",
        "        if monto > self.balance:\n",
        "            print(\"Balance Insuficiente.\")\n",
        "        else:\n",
        "            self.balance -= monto\n",
        "            print(f\"${monto} ha sido seleccionado de tu cuenta.\")\n",
        "\n",
        "    def verificar_balance(self):\n",
        "        print(f\"El balance actual es ${self.balance}.\")\n",
        "\n",
        "#En balance se pone la f para\n",
        "# La \\n es para guardarlo como string\n",
        "    def print_detalles(self):\n",
        "        print(\"Nombre:\", self.cliente)\n",
        "        print(\"Numero cuenta:\", self.cuenta_no)\n",
        "        print(\"Fecha de apertura:\", self.fecha_de_apertura)\n",
        "        print(f\"Balance: ${self.balance}\\n\")\n",
        "\n",
        "cursor_1 = CuentaBancaria(2345, \"01-01-2011\", 1000, \"Cesar\")\n",
        "cursor_2 = CuentaBancaria(1234, \"11-03-2011\", 2000, \"Galindo\")\n",
        "\n",
        "# .print_detalles es una definición\n",
        "print(\"Detalles:\")\n",
        "cursor_1.print_detalles()\n",
        "cursor_2.print_detalles()\n",
        "\n",
        "# Cuando pones print \"====\"  va a imprimir todo lo de abajo de esta señalización\n",
        "print(\"=============================\")\n",
        "cursor_2.print_detalles()\n",
        "\n",
        "cursor_2.deposito(1000)\n",
        "cursor_2.verificar_balance()\n",
        "\n",
        "cursor_2.seleccionar(5000)\n",
        "\n",
        "cursor_2.seleccionar(3400)\n",
        "cursor_2.verificar_balance()\n",
        "\n"
      ],
      "metadata": {
        "colab": {
          "base_uri": "https://localhost:8080/"
        },
        "id": "BPT3yQ_q0xl5",
        "outputId": "4b95a651-3341-46f9-d9c3-77f422b1fc6a"
      },
      "execution_count": null,
      "outputs": [
        {
          "output_type": "stream",
          "name": "stdout",
          "text": [
            "Detalles:\n",
            "Nombre: Cesar\n",
            "Numero cuenta: 2345\n",
            "Fecha de apertura: 01-01-2011\n",
            "Balance: $1000\n",
            "\n",
            "Nombre: Galindo\n",
            "Numero cuenta: 1234\n",
            "Fecha de apertura: 11-03-2011\n",
            "Balance: $2000\n",
            "\n",
            "=============================\n",
            "Nombre: Galindo\n",
            "Numero cuenta: 1234\n",
            "Fecha de apertura: 11-03-2011\n",
            "Balance: $2000\n",
            "\n",
            "$1000 ha sido depositado a tu cuenta.\n",
            "El balance actual es $3000.\n",
            "Balance Insuficiente.\n",
            "Balance Insuficiente.\n",
            "El balance actual es $3000.\n"
          ]
        }
      ]
    },
    {
      "cell_type": "code",
      "execution_count": 2,
      "metadata": {
        "id": "lkBseQYw0pLu"
      },
      "outputs": [],
      "source": [
        "# Date time es para datos fechados\n",
        "\n",
        "from datetime import datetime\n",
        "\n",
        "import yfinance as yf\n",
        "\n",
        "# Vamos a crear una clase que se llame asset\n",
        "# datetime.today() nos va a poner hasta la fecha de hoy\n",
        "\n",
        "\n",
        "class Asset:\n",
        "    def __init__(self, ticker, start_date, end_date = datetime.today().strftime('%Y-%m-%d')):\n",
        "        self.ticker = ticker\n",
        "        self.start_date = start_date\n",
        "        self.end_date = end_date\n",
        "\n",
        "# yf.download es para descargar datos de yahoo finance\n",
        "    def get_data(self):\n",
        "        df = yf.download(self.ticker, start = self.start_date, end = self.end_date)\n",
        "        return df\n",
        "\n",
        "# pct_change te calcula los rendimientos simples (precio final- precio inicial / precio inicial)\n",
        "# false es para que no lo asigne\n",
        "# .dropna() quitas el nan\n",
        "\n",
        "    def  simple_returns(self, adj = False, cum = False):\n",
        "        df = self.get_data()\n",
        "        if adj:\n",
        "            simple_returns = df[\"Adj Close\"].pct_change().dropna()\n",
        "        else:\n",
        "            simple_returns = df[\"Close\"].pct_change().dropna()\n",
        "        if cum:\n",
        "            simple_returns = (1 + simple_returns).cumprod() - 1\n",
        "        return simple_returns"
      ]
    },
    {
      "cell_type": "code",
      "source": [
        "# Te dice exactamente la fecha de hoy con minutos, segundos, etc\n",
        "# .strftime('%Y-%m-%d') le estas indicando que quieres nadamas año, mes y día\n",
        "\n",
        "\n",
        "from datetime import datetime\n",
        "datetime.today()."
      ],
      "metadata": {
        "id": "GgjvuSTB0bYU"
      },
      "execution_count": null,
      "outputs": []
    },
    {
      "cell_type": "code",
      "source": [
        "asset = Asset(\"AMZN\", 2020-1-1)\n",
        "asset.get_data()\n",
        "asset.simple_returns()"
      ],
      "metadata": {
        "colab": {
          "base_uri": "https://localhost:8080/"
        },
        "id": "FqKaJKoG2quP",
        "outputId": "7f5178d0-4b32-4cb4-88dd-bce29f2dfa4a"
      },
      "execution_count": 9,
      "outputs": [
        {
          "output_type": "stream",
          "name": "stdout",
          "text": [
            "[*********************100%%**********************]  1 of 1 completed\n",
            "[*********************100%%**********************]  1 of 1 completed\n"
          ]
        },
        {
          "output_type": "execute_result",
          "data": {
            "text/plain": [
              "Date\n",
              "1997-05-16   -0.117028\n",
              "1997-05-19   -0.012040\n",
              "1997-05-20   -0.042685\n",
              "1997-05-21   -0.127392\n",
              "1997-05-22   -0.021891\n",
              "                ...   \n",
              "2023-09-19   -0.016788\n",
              "2023-09-20   -0.017002\n",
              "2023-09-21   -0.044053\n",
              "2023-09-22   -0.001624\n",
              "2023-09-25    0.016651\n",
              "Name: Close, Length: 6633, dtype: float64"
            ]
          },
          "metadata": {},
          "execution_count": 9
        }
      ]
    },
    {
      "cell_type": "code",
      "source": [],
      "metadata": {
        "id": "tr2CWgza3BYs"
      },
      "execution_count": null,
      "outputs": []
    }
  ]
}