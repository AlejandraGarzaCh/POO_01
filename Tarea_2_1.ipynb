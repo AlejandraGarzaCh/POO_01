{
  "nbformat": 4,
  "nbformat_minor": 0,
  "metadata": {
    "colab": {
      "provenance": []
    },
    "kernelspec": {
      "name": "python3",
      "display_name": "Python 3"
    },
    "language_info": {
      "name": "python"
    }
  },
  "cells": [
    {
      "cell_type": "markdown",
      "source": [
        "Tarea 2.1\n",
        "Instrucciones:\n",
        "La tarea se entrega individualmente.\n",
        "Leer los lineamientos e instrucciones que se enuentran en Moodle.\n",
        "Sube tu Notebook a tu GitHub\n",
        "La entrega se hace por Moodle compartiendo tu liga a GitHub.\n",
        "Fecha de entrega Martes 26 de septiembre antes de las 20:00hrs\n",
        "Si existiera duda alguna, mandarlas por email."
      ],
      "metadata": {
        "id": "AWv-tC8lwvWO"
      }
    },
    {
      "cell_type": "code",
      "source": [
        "# Crea una clase que se llame Animal\n",
        "class Animal():\n",
        "# define un inicializador que contenga dos argumentos (a y b) que asignarás\n",
        "    def __init__(self, q, p):\n",
        "      self.q = q\n",
        "      self.p = p\n",
        "\n",
        "# Crea una clase heredada que se llame Mascota\n",
        "\n",
        "\n"
      ],
      "metadata": {
        "id": "UUgnLjrLww9f"
      },
      "execution_count": 25,
      "outputs": []
    },
    {
      "cell_type": "code",
      "source": [
        "class Mascota(Animal):\n",
        "  def __init__(self, nombre, raza):\n",
        "    self.nombre = nombre\n",
        "    self.raza = raza\n",
        "\n",
        "\n",
        "    # usar super(), (objeto temporal de la superclase) nos permite acceder a métodos de la clase madre\n",
        "\n",
        "    # define tres métodos asociados a Mascota\n",
        "  def mellamo(self):\n",
        "      return \"Me llamo \" + self.nombre\n",
        "\n",
        "  def miraza(self):\n",
        "      return \"Mi raza es \" + self.raza\n",
        "\n",
        "  def minombreraza(self):\n",
        "      return \"Mi nombre es \" + self.nombre + \"y mi raza es \" + self.raza"
      ],
      "metadata": {
        "id": "uX4OIUzEiDGX"
      },
      "execution_count": 26,
      "outputs": []
    },
    {
      "cell_type": "code",
      "source": [
        "animal_1 = Animal(\"gato\", \"pato\")\n",
        "print(animal_1.q)\n",
        "print(animal_1.p)\n"
      ],
      "metadata": {
        "colab": {
          "base_uri": "https://localhost:8080/"
        },
        "id": "5SwQUp0W4quz",
        "outputId": "be9daaee-ffde-4c12-88a2-dca30f2cd2c9"
      },
      "execution_count": 27,
      "outputs": [
        {
          "output_type": "stream",
          "name": "stdout",
          "text": [
            "gato\n",
            "pato\n"
          ]
        }
      ]
    },
    {
      "cell_type": "code",
      "source": [
        "animal_2 = Mascota(\"bobby\", \"labrador\")\n",
        "animal_2.minombreraza()"
      ],
      "metadata": {
        "colab": {
          "base_uri": "https://localhost:8080/",
          "height": 35
        },
        "id": "l-CaQhYo48o4",
        "outputId": "c98bd7be-f696-45dc-f433-ee642ab87907"
      },
      "execution_count": 28,
      "outputs": [
        {
          "output_type": "execute_result",
          "data": {
            "text/plain": [
              "'Mi nombre es bobbyy mi raza es labrador'"
            ],
            "application/vnd.google.colaboratory.intrinsic+json": {
              "type": "string"
            }
          },
          "metadata": {},
          "execution_count": 28
        }
      ]
    },
    {
      "cell_type": "code",
      "source": [
        "# Crea dos clases que tengan asignados nombres de Países.\n",
        "# Para cada clase, define al menos tres características del País considerado: por ejemplo, capital, idioma, etcétera\n",
        "class Pais_01:\n",
        "  def __init__(self):\n",
        "    self.pais = \"Mexico\"\n",
        "    self.idioma = \"Español\"\n",
        "    self.comidatipica = \"Tacos\"\n",
        "\n",
        "class Pais_02:\n",
        "  def __init__(self):\n",
        "    self.pais = \"Estados Unidos\"\n",
        "    self.idioma = \"Ingles\"\n",
        "    self.comidatipica = \"Hamburguesa\"\n",
        "\n",
        "# Objetos de las clases\n",
        "pais_01 = Pais_01()\n",
        "pais_02 = Pais_02()\n",
        "\n",
        "# Define dos variables que sean cursores\n",
        "curs_01 = pais_01\n",
        "curs_02 = pais_02\n",
        "\n",
        "# Impresión de las caracteristicas de los países\n",
        "print (f\"País 1: {curs_01.pais}, Idioma: {curs_01.idioma}, Comida Típica: {curs_01.comidatipica}\")\n",
        "print (f\"País 2: {curs_02.pais}, Idioma: {curs_02.idioma}, Comida Típica: {curs_02.comidatipica}\")\n"
      ],
      "metadata": {
        "colab": {
          "base_uri": "https://localhost:8080/"
        },
        "id": "NYqMS7GAx2H7",
        "outputId": "743f12ce-786f-49f8-ef2b-7297f6a7bbfb"
      },
      "execution_count": 29,
      "outputs": [
        {
          "output_type": "stream",
          "name": "stdout",
          "text": [
            "País 1: Mexico, Idioma: Español, Comida Típica: Tacos\n",
            "País 2: Estados Unidos, Idioma: Ingles, Comida Típica: Hamburguesa\n"
          ]
        }
      ]
    },
    {
      "cell_type": "code",
      "source": [
        "# Dos variables que sean cursores\n",
        "class Pais_01:\n",
        "  def __init__(self):\n",
        "    self.pais = \"Mexico\"\n",
        "    self.idioma = \"Español\"\n",
        "    self.comidatipica = \"Tacos\"\n",
        "\n",
        "class Pais_02:\n",
        "  def __init__(self):\n",
        "    self.pais = \"Estados Unidos\"\n",
        "    self.idioma = \"Ingles\"\n",
        "    self.comidatipica = \"Hamburguesa\"\n",
        "\n",
        "variable_01 = Pais_01()\n",
        "variable_02 = Pais_02()\n",
        "\n",
        "for paises in (variable_01, variable_02):\n",
        "  print(f\"País: {paises.pais} \")\n",
        "  print(f\"Idioma: {paises.idioma} \")\n",
        "  print(f\"Comida Típica: {paises.comidatipica} \")"
      ],
      "metadata": {
        "colab": {
          "base_uri": "https://localhost:8080/"
        },
        "id": "0pbjtEHKRKZj",
        "outputId": "829eea96-3822-4108-f7e6-edf4cc700551"
      },
      "execution_count": 30,
      "outputs": [
        {
          "output_type": "stream",
          "name": "stdout",
          "text": [
            "País: Mexico \n",
            "Idioma: Español \n",
            "Comida Típica: Tacos \n",
            "País: Estados Unidos \n",
            "Idioma: Ingles \n",
            "Comida Típica: Hamburguesa \n"
          ]
        }
      ]
    },
    {
      "cell_type": "code",
      "source": [
        "# Ejemplo de polimorfismo de clase y herencia.\n",
        "\n",
        "# Crea una clase madre que se llame Forma\n",
        "\n",
        "# Crea dos clases heredadas de la clase madre Forma que calcule el área y el perímetro de un círculo\n",
        "# y de un cuadrado, respectivamente.\n",
        "\n",
        "import math\n",
        "\n",
        "class forma:\n",
        "  def area(self):\n",
        "    pass\n",
        "  def perimetro(self):\n",
        "    pass\n",
        "\n",
        "class circulo(forma):\n",
        "  def __init__(self,r):\n",
        "    self.r = r\n",
        "\n",
        "  def area (self):\n",
        "    return math.pi * self.r**2\n",
        "\n",
        "  def perimetro(self):\n",
        "    return 2 * math.pi * self.r\n",
        "\n",
        "class cuadrado(forma):\n",
        "  def __init__(self, l):\n",
        "    self.l = l\n",
        "\n",
        "  def area(self):\n",
        "    return self.l**2\n",
        "\n",
        "  def perimetro(self):\n",
        "    return self.l * 4\n",
        "\n",
        "#Prueba de la clase\n",
        "c = circulo(3)\n",
        "cu = cuadrado (6)\n",
        "\n",
        "print (f\"Perimetro del circulo : {c.perimetro()}\")\n",
        "print (f\"Área del circulo : {c.area()}\")\n",
        "\n",
        "print (f\"Perimetro del cuadrado : {cu.perimetro()}\")\n",
        "print (f\"Área del cuadrado : {cu.area()}\")"
      ],
      "metadata": {
        "colab": {
          "base_uri": "https://localhost:8080/"
        },
        "id": "hmxEayssx37N",
        "outputId": "50cb5970-88d9-4b78-f97d-31a09d04fea4"
      },
      "execution_count": 32,
      "outputs": [
        {
          "output_type": "stream",
          "name": "stdout",
          "text": [
            "Perimetro del circulo : 18.84955592153876\n",
            "Área del circulo : 28.274333882308138\n",
            "Perimetro del cuadrado : 24\n",
            "Área del cuadrado : 36\n"
          ]
        }
      ]
    }
  ]
}