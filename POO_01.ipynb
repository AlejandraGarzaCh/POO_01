{
  "nbformat": 4,
  "nbformat_minor": 0,
  "metadata": {
    "colab": {
      "provenance": []
    },
    "kernelspec": {
      "name": "python3",
      "display_name": "Python 3"
    },
    "language_info": {
      "name": "python"
    }
  },
  "cells": [
    {
      "cell_type": "markdown",
      "source": [
        "# Introduccion a objetos\n",
        "## Primeros objetos\n",
        "\n"
      ],
      "metadata": {
        "id": "7iyNfn2YSsov"
      }
    },
    {
      "cell_type": "markdown",
      "source": [
        "La función que identifica el tipo de objeto es la función `type`\n"
      ],
      "metadata": {
        "id": "0WFI_u0WUmNh"
      }
    },
    {
      "cell_type": "markdown",
      "source": [
        "Las variables se escriben como sigue"
      ],
      "metadata": {
        "id": "W8ywMo8iVZhs"
      }
    },
    {
      "cell_type": "code",
      "execution_count": 2,
      "metadata": {
        "id": "oYzPePyoR3fR"
      },
      "outputs": [],
      "source": [
        "num=5\n",
        "saludo = \"Hola, mundo!\"\n"
      ]
    },
    {
      "cell_type": "code",
      "source": [
        "type(saludo)\n"
      ],
      "metadata": {
        "colab": {
          "base_uri": "https://localhost:8080/"
        },
        "id": "2ZDihDe8XTNz",
        "outputId": "4517090e-cdb0-42ea-f1e7-a85f7dcc47c4"
      },
      "execution_count": 6,
      "outputs": [
        {
          "output_type": "execute_result",
          "data": {
            "text/plain": [
              "str"
            ]
          },
          "metadata": {},
          "execution_count": 6
        }
      ]
    },
    {
      "cell_type": "code",
      "source": [
        "print(saludo)\n"
      ],
      "metadata": {
        "colab": {
          "base_uri": "https://localhost:8080/"
        },
        "id": "eIozejmTWdWj",
        "outputId": "04057f42-6a6c-46a0-9fbb-8f4c52967c7c"
      },
      "execution_count": 4,
      "outputs": [
        {
          "output_type": "stream",
          "name": "stdout",
          "text": [
            "Hola, mundo!\n"
          ]
        }
      ]
    },
    {
      "cell_type": "code",
      "source": [
        "type(num)"
      ],
      "metadata": {
        "colab": {
          "base_uri": "https://localhost:8080/"
        },
        "id": "JXbkZJ-zXApd",
        "outputId": "ec11f748-ad16-41e6-d3af-50d345e1346c"
      },
      "execution_count": 5,
      "outputs": [
        {
          "output_type": "execute_result",
          "data": {
            "text/plain": [
              "int"
            ]
          },
          "metadata": {},
          "execution_count": 5
        }
      ]
    },
    {
      "cell_type": "code",
      "source": [
        "#Esto sirve para comprar, la respuesta es True o False. Compara el tipo de variable.\n",
        "#El resultado arroja un resultado booleano.\n",
        "type(num)==type(saludo)\n"
      ],
      "metadata": {
        "colab": {
          "base_uri": "https://localhost:8080/"
        },
        "id": "62mjkSFkXhmb",
        "outputId": "ba8ab208-e311-4510-e053-d8218c09126c"
      },
      "execution_count": 8,
      "outputs": [
        {
          "output_type": "execute_result",
          "data": {
            "text/plain": [
              "False"
            ]
          },
          "metadata": {},
          "execution_count": 8
        }
      ]
    },
    {
      "cell_type": "code",
      "source": [
        "#Convierte un int en flotante\n",
        "float(num)"
      ],
      "metadata": {
        "colab": {
          "base_uri": "https://localhost:8080/"
        },
        "id": "zyGnZOA9ZGU-",
        "outputId": "69bbb122-52f9-4fe6-b7d7-17bf97834605"
      },
      "execution_count": 11,
      "outputs": [
        {
          "output_type": "execute_result",
          "data": {
            "text/plain": [
              "5.0"
            ]
          },
          "metadata": {},
          "execution_count": 11
        }
      ]
    },
    {
      "cell_type": "code",
      "source": [
        "#Convierte un int en string\n",
        "str(num)"
      ],
      "metadata": {
        "colab": {
          "base_uri": "https://localhost:8080/",
          "height": 35
        },
        "id": "aE15z-_BZT1h",
        "outputId": "af6411f5-98d2-4819-ecbd-37aa0dcbf760"
      },
      "execution_count": 9,
      "outputs": [
        {
          "output_type": "execute_result",
          "data": {
            "text/plain": [
              "'5'"
            ],
            "application/vnd.google.colaboratory.intrinsic+json": {
              "type": "string"
            }
          },
          "metadata": {},
          "execution_count": 9
        }
      ]
    },
    {
      "cell_type": "code",
      "source": [
        "#Es una nueva variable\n",
        "nums=str(num)"
      ],
      "metadata": {
        "id": "KsJiBx-7ZvV1"
      },
      "execution_count": 14,
      "outputs": []
    },
    {
      "cell_type": "code",
      "source": [
        "#Comparamos el tipo de la nueva variable nums con el tipo de variable de saludo\n",
        "type(nums)==type(saludo)"
      ],
      "metadata": {
        "colab": {
          "base_uri": "https://localhost:8080/"
        },
        "id": "pr2yXUcraCQ4",
        "outputId": "f8e610cb-d459-4916-f423-a32009dba676"
      },
      "execution_count": 15,
      "outputs": [
        {
          "output_type": "execute_result",
          "data": {
            "text/plain": [
              "True"
            ]
          },
          "metadata": {},
          "execution_count": 15
        }
      ]
    },
    {
      "cell_type": "code",
      "source": [
        "#La Función range sirve para crear indices, los indices en python empiezan en 0. Si pones range(10), te va a dar range(0,10) como resultado.\n",
        "range(11)\n",
        "#Vamos a mostrar los elementos de range(10). Para esto usamos un for (Se tiene que poner : al final)\n",
        "#Llega hasta el 9 porque python empieza en 0 entonces siempre te va a dar un numero menos.\n",
        "#Para que este dentro del for tiene que tener sangría\n",
        "for i in range(11):\n",
        "  print(i)"
      ],
      "metadata": {
        "colab": {
          "base_uri": "https://localhost:8080/"
        },
        "id": "r-KYIljcak_S",
        "outputId": "352d5ef6-9f05-4490-b181-ff39705b54b8"
      },
      "execution_count": 31,
      "outputs": [
        {
          "output_type": "stream",
          "name": "stdout",
          "text": [
            "0\n",
            "1\n",
            "2\n",
            "3\n",
            "4\n",
            "5\n",
            "6\n",
            "7\n",
            "8\n",
            "9\n",
            "10\n"
          ]
        }
      ]
    },
    {
      "cell_type": "code",
      "source": [
        "#Para crear listas\n",
        "#Las listas se abren y cierran con corchetes\n",
        "#lista_1=[el0,el1, el(n-1)]\n",
        "#Los elementos pueden ser de cualquier tipo. Cada elemento es un objeto.\n",
        "lista_1=[1, \"1\", 1.0, [2,3]]\n"
      ],
      "metadata": {
        "id": "Udnip6U6dB7k"
      },
      "execution_count": 34,
      "outputs": []
    },
    {
      "cell_type": "code",
      "source": [
        "#Para saber el tipo de variable de la lista\n",
        "type(lista_1)"
      ],
      "metadata": {
        "colab": {
          "base_uri": "https://localhost:8080/"
        },
        "id": "_g1weB8beCt4",
        "outputId": "ce79beed-caf3-4993-c2d9-3e70e73b5750"
      },
      "execution_count": 36,
      "outputs": [
        {
          "output_type": "execute_result",
          "data": {
            "text/plain": [
              "list"
            ]
          },
          "metadata": {},
          "execution_count": 36
        }
      ]
    },
    {
      "cell_type": "code",
      "source": [
        "#Para poner un range en una lista\n",
        "#La x es como la j y la i en código en c\n",
        "lista_2=[x for x in range(11)]\n",
        "print(lista_2)"
      ],
      "metadata": {
        "colab": {
          "base_uri": "https://localhost:8080/"
        },
        "id": "sCyj1V2SeLWV",
        "outputId": "18c75d28-2078-4978-a212-0642b32fa357"
      },
      "execution_count": 40,
      "outputs": [
        {
          "output_type": "stream",
          "name": "stdout",
          "text": [
            "[0, 1, 2, 3, 4, 5, 6, 7, 8, 9, 10]\n"
          ]
        }
      ]
    },
    {
      "cell_type": "code",
      "source": [],
      "metadata": {
        "id": "Y7Rq1fepepOj"
      },
      "execution_count": 38,
      "outputs": []
    }
  ]
}