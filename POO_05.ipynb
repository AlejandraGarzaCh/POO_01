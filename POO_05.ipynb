{
  "nbformat": 4,
  "nbformat_minor": 0,
  "metadata": {
    "colab": {
      "provenance": []
    },
    "kernelspec": {
      "name": "python3",
      "display_name": "Python 3"
    },
    "language_info": {
      "name": "python"
    }
  },
  "cells": [
    {
      "cell_type": "markdown",
      "source": [
        "#Clases, herencias y polimorfismos"
      ],
      "metadata": {
        "id": "k5dU9C2tnfZk"
      }
    },
    {
      "cell_type": "markdown",
      "source": [
        "###Definiciones.\n"
      ],
      "metadata": {
        "id": "3GiWOt9Cnc3d"
      }
    },
    {
      "cell_type": "code",
      "source": [
        "#Vamos a crear una definición en (que es una función integrada en python)\n",
        "def Milanesi(a,b,c):\n",
        "  x = a+b*c\n",
        "  return x"
      ],
      "metadata": {
        "id": "QHoGYKO4nedv"
      },
      "execution_count": null,
      "outputs": []
    },
    {
      "cell_type": "code",
      "source": [
        "Milanesi (1,2,3)"
      ],
      "metadata": {
        "colab": {
          "base_uri": "https://localhost:8080/"
        },
        "id": "u4k24tY1pES7",
        "outputId": "85ebfd57-f279-4b49-f275-cd267092aa33"
      },
      "execution_count": null,
      "outputs": [
        {
          "output_type": "execute_result",
          "data": {
            "text/plain": [
              "7"
            ]
          },
          "metadata": {},
          "execution_count": 4
        }
      ]
    },
    {
      "cell_type": "code",
      "source": [
        "#Vamos a crear una definición que calcule la inversa de una matriz\n",
        "import numpy as np\n",
        "def Inv_Matrix(M):\n",
        "  x = np.linalg.inv(M)\n",
        "  return x"
      ],
      "metadata": {
        "id": "PMyBeOIFpL7b"
      },
      "execution_count": null,
      "outputs": []
    },
    {
      "cell_type": "code",
      "source": [
        "b = np.array([[1,2,3], [0,1,0],[2,1,1]])\n",
        "b"
      ],
      "metadata": {
        "colab": {
          "base_uri": "https://localhost:8080/"
        },
        "id": "s-K27G3HqJQE",
        "outputId": "d72ba02e-a19b-4074-976e-94619d729290"
      },
      "execution_count": null,
      "outputs": [
        {
          "output_type": "execute_result",
          "data": {
            "text/plain": [
              "array([[1, 2, 3],\n",
              "       [0, 1, 0],\n",
              "       [2, 1, 1]])"
            ]
          },
          "metadata": {},
          "execution_count": 22
        }
      ]
    },
    {
      "cell_type": "code",
      "source": [
        "Inv_Matrix (b)"
      ],
      "metadata": {
        "colab": {
          "base_uri": "https://localhost:8080/"
        },
        "id": "MKnHWhByrs-O",
        "outputId": "10dc9628-78be-4c34-a4ac-fbf055fa7ac5"
      },
      "execution_count": null,
      "outputs": [
        {
          "output_type": "execute_result",
          "data": {
            "text/plain": [
              "array([[-0.2, -0.2,  0.6],\n",
              "       [ 0. ,  1. ,  0. ],\n",
              "       [ 0.4, -0.6, -0.2]])"
            ]
          },
          "metadata": {},
          "execution_count": 23
        }
      ]
    },
    {
      "cell_type": "code",
      "source": [
        "#Matriz con datos random, para que te lo deje fijos pones el seed (12)\n",
        "np.random.seed (12)\n",
        "y=np.random.randint(1,20,size=(2,2))\n",
        "Inv_Matrix(y)"
      ],
      "metadata": {
        "colab": {
          "base_uri": "https://localhost:8080/"
        },
        "id": "26hqpZoNsIKD",
        "outputId": "ace2fbd1-158d-47c8-98b9-fd8155f14cb4"
      },
      "execution_count": null,
      "outputs": [
        {
          "output_type": "execute_result",
          "data": {
            "text/plain": [
              "array([[-0.03333333,  0.07777778],\n",
              "       [ 0.2       , -0.13333333]])"
            ]
          },
          "metadata": {},
          "execution_count": 30
        }
      ]
    },
    {
      "cell_type": "code",
      "source": [
        "y"
      ],
      "metadata": {
        "colab": {
          "base_uri": "https://localhost:8080/"
        },
        "id": "M38LDqDpx228",
        "outputId": "d9ae5cc6-b83e-4edf-fe61-1c49f7488122"
      },
      "execution_count": null,
      "outputs": [
        {
          "output_type": "execute_result",
          "data": {
            "text/plain": [
              "array([[12,  7],\n",
              "       [18,  3]])"
            ]
          },
          "metadata": {},
          "execution_count": 31
        }
      ]
    },
    {
      "cell_type": "code",
      "source": [
        "#Te dice la dimensión de la matriz\n",
        "b.shape"
      ],
      "metadata": {
        "colab": {
          "base_uri": "https://localhost:8080/"
        },
        "id": "BKKgMpLtx5Gb",
        "outputId": "e4f4aaff-9e1d-431d-998e-9cc3cfa74230"
      },
      "execution_count": null,
      "outputs": [
        {
          "output_type": "execute_result",
          "data": {
            "text/plain": [
              "(3, 3)"
            ]
          },
          "metadata": {},
          "execution_count": 34
        }
      ]
    },
    {
      "cell_type": "code",
      "source": [],
      "metadata": {
        "id": "bmDYgyS_z3y2"
      },
      "execution_count": null,
      "outputs": []
    }
  ]
}