{
  "nbformat": 4,
  "nbformat_minor": 0,
  "metadata": {
    "colab": {
      "provenance": []
    },
    "kernelspec": {
      "name": "python3",
      "display_name": "Python 3"
    },
    "language_info": {
      "name": "python"
    }
  },
  "cells": [
    {
      "cell_type": "code",
      "execution_count": 1,
      "metadata": {
        "id": "-9yrvMBY8TjW"
      },
      "outputs": [],
      "source": [
        "#Parte B"
      ]
    },
    {
      "cell_type": "code",
      "source": [
        "#1. Crea definiciones que calculen el área de un círculo\n",
        "import math\n",
        "\n",
        "def area_de_un_circulo(radio):\n",
        "  return math.pi * radio**2\n",
        "\n",
        "#Probar\n",
        "radio = 2\n",
        "area_del_circulo = area_de_un_circulo(radio)\n",
        "print(area_del_circulo)"
      ],
      "metadata": {
        "colab": {
          "base_uri": "https://localhost:8080/"
        },
        "id": "e5VBrlKw8Zax",
        "outputId": "07c0c54f-869e-4c1b-937b-296d254b84f5"
      },
      "execution_count": 2,
      "outputs": [
        {
          "output_type": "stream",
          "name": "stdout",
          "text": [
            "12.566370614359172\n"
          ]
        }
      ]
    },
    {
      "cell_type": "code",
      "source": [
        "#Crea definiciones que calculen el área de un rectángulo\n",
        "def area_de_un_rectangulo (base, alt):\n",
        "  return base * alt\n",
        "\n",
        "#Probar\n",
        "base = 9\n",
        "alt = 10\n",
        "area_del_rectangulo = area_de_un_rectangulo(base, alt)\n",
        "print(area_del_rectangulo)"
      ],
      "metadata": {
        "colab": {
          "base_uri": "https://localhost:8080/"
        },
        "id": "flQG0Yh3CxWI",
        "outputId": "76256e74-1189-46c5-fa14-1e1bd05af9b7"
      },
      "execution_count": 3,
      "outputs": [
        {
          "output_type": "stream",
          "name": "stdout",
          "text": [
            "90\n"
          ]
        }
      ]
    },
    {
      "cell_type": "code",
      "source": [
        "#2. Crea una definición que calcule la raíz cuadrada de un número.\n",
        "import math\n",
        "def raiz_cuadrada(numero):\n",
        "  return math.sqrt(numero)\n",
        "\n",
        "#Probar\n",
        "numero = 4\n",
        "raiz_5= raiz_cuadrada(numero)\n",
        "print(raiz_5)"
      ],
      "metadata": {
        "colab": {
          "base_uri": "https://localhost:8080/"
        },
        "id": "vnjVv1O28g0K",
        "outputId": "b9a1ace4-9b7f-4cc5-a7d9-58f11bc3f948"
      },
      "execution_count": 4,
      "outputs": [
        {
          "output_type": "stream",
          "name": "stdout",
          "text": [
            "2.0\n"
          ]
        }
      ]
    },
    {
      "cell_type": "code",
      "source": [
        "#3. Crea una lista que contenga 20 números enteros que eliges de manera aleatoria en el intervalo  [0,100]  (incluyendo el  0  y el  100 ).\n",
        "import random\n",
        "\n",
        "lista_20 = []\n",
        "\n",
        "for _ in range (20):\n",
        "  numal = random.randint(0,100)\n",
        "  lista_20.append(numal)\n",
        "\n",
        "print (lista_20)"
      ],
      "metadata": {
        "colab": {
          "base_uri": "https://localhost:8080/"
        },
        "id": "JCQbX_f68kWT",
        "outputId": "5bebc3dd-8b82-4562-e9a1-83fa5e01c8fd"
      },
      "execution_count": 5,
      "outputs": [
        {
          "output_type": "stream",
          "name": "stdout",
          "text": [
            "[87, 61, 78, 59, 86, 11, 74, 42, 71, 93, 67, 75, 80, 27, 20, 33, 80, 88, 66, 5]\n"
          ]
        }
      ]
    },
    {
      "cell_type": "code",
      "source": [
        "#4. Usa el punto 2 para calcular la raíz cuadrada de cada elemento de la lista del punto 3.\n",
        "import numpy as np\n",
        "raizlista=np.array([raiz_cuadrada(numero) for numero in lista_20])\n",
        "raizlista"
      ],
      "metadata": {
        "colab": {
          "base_uri": "https://localhost:8080/"
        },
        "id": "JSprylT5-LP2",
        "outputId": "3855cf93-2538-45f7-fde1-0dec89ecd242"
      },
      "execution_count": 24,
      "outputs": [
        {
          "output_type": "execute_result",
          "data": {
            "text/plain": [
              "array([9.32737905, 7.81024968, 8.83176087, 7.68114575, 9.2736185 ,\n",
              "       3.31662479, 8.60232527, 6.4807407 , 8.42614977, 9.64365076,\n",
              "       8.18535277, 8.66025404, 8.94427191, 5.19615242, 4.47213595,\n",
              "       5.74456265, 8.94427191, 9.38083152, 8.1240384 , 2.23606798])"
            ]
          },
          "metadata": {},
          "execution_count": 24
        }
      ]
    },
    {
      "cell_type": "code",
      "source": [
        "\n",
        "#5. Crea un conjunto cuyos elementos sean aquellos enteros de tu lista del punto 3. y cuya raíz cuadrada te da un entero.\n",
        "def lista_enteros(x):\n",
        "  if x == int:\n",
        "    print (x)\n",
        "  else:\n",
        "    print(\"No hay entero\")\n",
        "\n",
        "lista_enteros=[lista_enteros(raizlista) for raizlista in raizlista]"
      ],
      "metadata": {
        "id": "9tOYY93J-RF1",
        "colab": {
          "base_uri": "https://localhost:8080/"
        },
        "outputId": "24296966-ea62-4b4a-816b-8d8bcccec921"
      },
      "execution_count": 34,
      "outputs": [
        {
          "output_type": "stream",
          "name": "stdout",
          "text": [
            "No hay entero\n",
            "No hay entero\n",
            "No hay entero\n",
            "No hay entero\n",
            "No hay entero\n",
            "No hay entero\n",
            "No hay entero\n",
            "No hay entero\n",
            "No hay entero\n",
            "No hay entero\n",
            "No hay entero\n",
            "No hay entero\n",
            "No hay entero\n",
            "No hay entero\n",
            "No hay entero\n",
            "No hay entero\n",
            "No hay entero\n",
            "No hay entero\n",
            "No hay entero\n",
            "No hay entero\n"
          ]
        }
      ]
    }
  ]
}