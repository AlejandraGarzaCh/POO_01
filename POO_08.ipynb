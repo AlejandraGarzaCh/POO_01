{
  "nbformat": 4,
  "nbformat_minor": 0,
  "metadata": {
    "colab": {
      "provenance": []
    },
    "kernelspec": {
      "name": "python3",
      "display_name": "Python 3"
    },
    "language_info": {
      "name": "python"
    }
  },
  "cells": [
    {
      "cell_type": "markdown",
      "source": [
        "#Polimorfismos"
      ],
      "metadata": {
        "id": "03BU9TL7p7XJ"
      }
    },
    {
      "cell_type": "code",
      "source": [
        "#A partir de un data frame puedo tener atributos y métodos : graficas, punto describe, minimo, maximo, rango intercuartil\n",
        "#Def es para crear formulas, es global\n"
      ],
      "metadata": {
        "id": "cV8eaYUMp8za"
      },
      "execution_count": 1,
      "outputs": []
    },
    {
      "cell_type": "code",
      "source": [
        "class animal():\n",
        "  def __init__(self):\n",
        "    print(\"animal class creada\")\n",
        "  def guess_who(self):\n",
        "    print(\"soy un animalito\")\n",
        "  def sleep(self):\n",
        "    print(\"estoy durmiendo\")"
      ],
      "metadata": {
        "id": "1pR-lnKCqSZy"
      },
      "execution_count": 2,
      "outputs": []
    },
    {
      "cell_type": "code",
      "source": [
        "#my_animal es la variable\n",
        "#animal() es un cursor\n",
        "#cuando se le pone parentesis es porque son definiciones\n",
        "my_animal = animal()"
      ],
      "metadata": {
        "colab": {
          "base_uri": "https://localhost:8080/"
        },
        "id": "eZkPVOQ1rS7X",
        "outputId": "91f8161f-f506-455b-b86e-f575c5ef033f"
      },
      "execution_count": 9,
      "outputs": [
        {
          "output_type": "stream",
          "name": "stdout",
          "text": [
            "animal class creada\n"
          ]
        }
      ]
    },
    {
      "cell_type": "code",
      "source": [
        "#Cuando ponemos punto es ingresar a la función de la clase\n",
        "my_animal.sleep()"
      ],
      "metadata": {
        "colab": {
          "base_uri": "https://localhost:8080/"
        },
        "id": "rq36ywQWrgxA",
        "outputId": "f58785b5-106c-41be-fa88-5a04b0cb0b37"
      },
      "execution_count": 14,
      "outputs": [
        {
          "output_type": "stream",
          "name": "stdout",
          "text": [
            "estoy durmiendo\n"
          ]
        }
      ]
    },
    {
      "cell_type": "code",
      "source": [
        "#Esta nueva clase se obtiene a partir de la clase maestra subordinando a ésta\n",
        "#Se inicializa la clase maestra dentro de la clase subordinada\n",
        "#La clase se llama herencia porque essta subordinada de la otra\n",
        "class cat(animal):\n",
        "  def __init__(self):\n",
        "    animal.__init__(self)\n",
        "    print(\"cat class creada\")\n",
        "\n",
        "  def guess_who(self):\n",
        "    print(\"soy un gatito\")\n",
        "\n",
        "  def meow(self):\n",
        "    print(\"meowww\")"
      ],
      "metadata": {
        "id": "7s7Mwxd2tlbV"
      },
      "execution_count": 23,
      "outputs": []
    },
    {
      "cell_type": "code",
      "source": [
        "my_cat = cat()"
      ],
      "metadata": {
        "colab": {
          "base_uri": "https://localhost:8080/"
        },
        "id": "JySA7pLev-xK",
        "outputId": "cf5056e4-c2aa-4e3f-e79e-2630cc623f7a"
      },
      "execution_count": 24,
      "outputs": [
        {
          "output_type": "stream",
          "name": "stdout",
          "text": [
            "animal class creada\n",
            "cat class creada\n"
          ]
        }
      ]
    },
    {
      "cell_type": "code",
      "source": [
        "my_cat.guess_who()"
      ],
      "metadata": {
        "colab": {
          "base_uri": "https://localhost:8080/"
        },
        "id": "4122my0IwpDy",
        "outputId": "6ec26d5a-4020-4f61-e3c5-711292e60f2e"
      },
      "execution_count": 25,
      "outputs": [
        {
          "output_type": "stream",
          "name": "stdout",
          "text": [
            "soy un gatito\n"
          ]
        }
      ]
    },
    {
      "cell_type": "code",
      "source": [
        "my_animal.guess_who()"
      ],
      "metadata": {
        "colab": {
          "base_uri": "https://localhost:8080/"
        },
        "id": "yeTX5aIkw3mk",
        "outputId": "1914816a-39af-4597-e587-9bb421a16c0a"
      },
      "execution_count": 26,
      "outputs": [
        {
          "output_type": "stream",
          "name": "stdout",
          "text": [
            "soy un animalito\n"
          ]
        }
      ]
    },
    {
      "cell_type": "code",
      "source": [
        "my_cat.meow()"
      ],
      "metadata": {
        "colab": {
          "base_uri": "https://localhost:8080/"
        },
        "id": "xp4xvBjJw6Hf",
        "outputId": "86b5b750-87df-4829-aa1c-b5a78e0c6610"
      },
      "execution_count": 27,
      "outputs": [
        {
          "output_type": "stream",
          "name": "stdout",
          "text": [
            "meowww\n"
          ]
        }
      ]
    },
    {
      "cell_type": "code",
      "source": [
        "my_animal.sleep()"
      ],
      "metadata": {
        "colab": {
          "base_uri": "https://localhost:8080/"
        },
        "id": "Jb2keK1hw-8E",
        "outputId": "7a95b331-eaac-4188-c98a-e5c45af66502"
      },
      "execution_count": 29,
      "outputs": [
        {
          "output_type": "stream",
          "name": "stdout",
          "text": [
            "estoy durmiendo\n"
          ]
        }
      ]
    },
    {
      "cell_type": "code",
      "source": [
        "class doggy():\n",
        "  def __init__(self, name, raza):\n",
        "    self.name = name\n",
        "    self.raza = raza\n",
        "\n",
        "  def speak(self):\n",
        "    return self.name + \"dice WOOF\""
      ],
      "metadata": {
        "id": "rg4hPE9yyKPu"
      },
      "execution_count": 31,
      "outputs": []
    },
    {
      "cell_type": "code",
      "source": [
        "class catty():\n",
        "  def __init__(self, name, raza):\n",
        "    self.name = name\n",
        "    self.raza = raza\n",
        "\n",
        "  def speak(self):\n",
        "    return self.name + \"says MEOWW\""
      ],
      "metadata": {
        "id": "tKCvmhq3yZwg"
      },
      "execution_count": 35,
      "outputs": []
    },
    {
      "cell_type": "code",
      "source": [
        "my_dog = doggy(\"Buzz \", \"dalmata\")\n",
        "my_cat = catty(\"Tom \", \"persa\")"
      ],
      "metadata": {
        "id": "vO-j79r4zJbQ"
      },
      "execution_count": 47,
      "outputs": []
    },
    {
      "cell_type": "code",
      "source": [
        "my_dog.speak()"
      ],
      "metadata": {
        "colab": {
          "base_uri": "https://localhost:8080/",
          "height": 35
        },
        "id": "9BUPjSOhzhEE",
        "outputId": "1ed6d852-bdec-4a6d-8d5e-56499516a773"
      },
      "execution_count": 48,
      "outputs": [
        {
          "output_type": "execute_result",
          "data": {
            "text/plain": [
              "'Buzz dice WOOF'"
            ],
            "application/vnd.google.colaboratory.intrinsic+json": {
              "type": "string"
            }
          },
          "metadata": {},
          "execution_count": 48
        }
      ]
    },
    {
      "cell_type": "code",
      "source": [
        "my_cat.speak()"
      ],
      "metadata": {
        "colab": {
          "base_uri": "https://localhost:8080/",
          "height": 35
        },
        "id": "JEYT6oC1zscU",
        "outputId": "9c456dc6-825e-490f-cdd5-4bb516bc5f3c"
      },
      "execution_count": 49,
      "outputs": [
        {
          "output_type": "execute_result",
          "data": {
            "text/plain": [
              "'Tom says MEOWW'"
            ],
            "application/vnd.google.colaboratory.intrinsic+json": {
              "type": "string"
            }
          },
          "metadata": {},
          "execution_count": 49
        }
      ]
    }
  ]
}