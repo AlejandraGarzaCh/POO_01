{
  "nbformat": 4,
  "nbformat_minor": 0,
  "metadata": {
    "colab": {
      "provenance": []
    },
    "kernelspec": {
      "name": "python3",
      "display_name": "Python 3"
    },
    "language_info": {
      "name": "python"
    }
  },
  "cells": [
    {
      "cell_type": "markdown",
      "source": [
        "#Condicionales: if, elif, else"
      ],
      "metadata": {
        "id": "PrYFxCOWbSbD"
      }
    },
    {
      "cell_type": "markdown",
      "source": [
        "### Ejemplo 1\n"
      ],
      "metadata": {
        "id": "B6E7pgW0dRTM"
      }
    },
    {
      "cell_type": "code",
      "source": [
        "letra = \"A\"\n",
        "if letra == \"B\":\n",
        "  print (\"La letra es B\")\n",
        "elif letra == \"C\":\n",
        "  print (\"La letra es C\")\n",
        "elif letra == \"A\":\n",
        "  print (\"La letra es A\")\n",
        "else:\n",
        "  print (\"La letra no es A, ni B, ni C\")\n"
      ],
      "metadata": {
        "colab": {
          "base_uri": "https://localhost:8080/"
        },
        "id": "sxn310MtbToP",
        "outputId": "4f616b9b-cac7-491b-faf6-2804d1f73fc9"
      },
      "execution_count": null,
      "outputs": [
        {
          "output_type": "stream",
          "name": "stdout",
          "text": [
            "La letra es A\n"
          ]
        }
      ]
    },
    {
      "cell_type": "markdown",
      "source": [
        "###Ejemplo 2"
      ],
      "metadata": {
        "id": "gZMu_km9dVSz"
      }
    },
    {
      "cell_type": "code",
      "source": [
        "#La función input interactua con el usuario\n",
        "#Int lo convierte en entero\n",
        "numero = int(input(\"Escribe un número: \"))"
      ],
      "metadata": {
        "colab": {
          "base_uri": "https://localhost:8080/"
        },
        "id": "8AXuqymbdYYX",
        "outputId": "82813e40-3a8c-48e8-b931-a52f9792368b"
      },
      "execution_count": null,
      "outputs": [
        {
          "name": "stdout",
          "output_type": "stream",
          "text": [
            "Escribe un número: 4\n"
          ]
        }
      ]
    },
    {
      "cell_type": "code",
      "source": [
        "#La f es para guardar el numero como un string\n",
        "if numero % 2 == 0 and numero % 4!= 0:\n",
        "  print(f\"{numero} es múltiplo de dos \")\n",
        "elif numero % 4 == 0:\n",
        "  print(f\"{numero} es múltiplo de cuatro \")\n",
        "else:\n",
        "  print(f\"{numero} no es múltiplo de dos \")"
      ],
      "metadata": {
        "colab": {
          "base_uri": "https://localhost:8080/"
        },
        "id": "ZUxw0jxZeBdq",
        "outputId": "a7c80927-b3d2-4534-b632-703dcc59f4c4"
      },
      "execution_count": null,
      "outputs": [
        {
          "output_type": "stream",
          "name": "stdout",
          "text": [
            "4 es múltiplo de cuatro \n"
          ]
        }
      ]
    },
    {
      "cell_type": "code",
      "source": [
        "numero = int(input(\"Escribe un número: \"))\n",
        "if numero % 2 == 0 and numero % 4!= 0:\n",
        "  print(f\"{numero} es múltiplo de dos \")\n",
        "elif numero % 4 == 0:\n",
        "  print(f\"{numero} es múltiplo de cuatro \")\n",
        "else:\n",
        "  print(f\"{numero} no es múltiplo de dos \")"
      ],
      "metadata": {
        "colab": {
          "base_uri": "https://localhost:8080/"
        },
        "id": "Nq9IGqj1f7Wo",
        "outputId": "18ff2e15-9bc4-4ea5-ebc0-8eea40f36549"
      },
      "execution_count": null,
      "outputs": [
        {
          "output_type": "stream",
          "name": "stdout",
          "text": [
            "Escribe un número: 22\n",
            "22 es múltiplo de dos \n"
          ]
        }
      ]
    },
    {
      "cell_type": "code",
      "source": [
        "#Ejemplo de clase\n",
        "mascota = input(\"¿Que mascota tienes?: \")\n",
        "if mascota == \"huron\":\n",
        "  print(\"Tu mascota no es la mascota mas común\")\n",
        "elif mascota == \"tortuga\":\n",
        "  print(\"Tu mascota no es la mascota mas común\")\n",
        "elif mascota == \"cuyo\":\n",
        "  print(\"Tu mascota no es la mascota mas común\")\n",
        "else:\n",
        "  print(\"Tu mascota es la mascota mas común\")"
      ],
      "metadata": {
        "colab": {
          "base_uri": "https://localhost:8080/"
        },
        "id": "uLYBdLIdgyn_",
        "outputId": "b1c5619f-ea7f-4d61-a8ce-43448c727199"
      },
      "execution_count": null,
      "outputs": [
        {
          "output_type": "stream",
          "name": "stdout",
          "text": [
            "¿Que mascota tienes?: tortuga\n",
            "Tu mascota no es la mascota mas común\n"
          ]
        }
      ]
    },
    {
      "cell_type": "markdown",
      "source": [
        "#Clases y polimorfismos"
      ],
      "metadata": {
        "id": "ZW6xa6GJkja_"
      }
    },
    {
      "cell_type": "code",
      "source": [
        "#Función class (nombre): dentro del nombre se escriben definiciones\n",
        "#Self autoasigna una variable, se pueden tantos selfs como quieras\n",
        "#Una clase es un nombre mayoritario para un conjunto de definiciones\n",
        "#NotImplementedError es un error que no se estableció\n",
        "class Mascota:\n",
        "  def hable(self):\n",
        "    return NotImplementedError\n",
        "class Perro(Mascota):\n",
        "  def hable(self):\n",
        "    return \"Woof\"\n",
        "class Gato(Mascota):\n",
        "  def hable(self):\n",
        "    return \"Miau\"\n",
        "class Vaca(Mascota):\n",
        "  def hable(self):\n",
        "    return \"Muuu\"\n",
        "class Pollo(Mascota):\n",
        "  def hable (self):\n",
        "    return \"Pioo\""
      ],
      "metadata": {
        "id": "XIgyI4sbksZI"
      },
      "execution_count": null,
      "outputs": []
    },
    {
      "cell_type": "code",
      "source": [
        "#Vamos a crear una lista de mascotas\n",
        "mascotas = [Perro(), Gato(), Vaca(), Pollo()] #generador de objetos dentro de la clase"
      ],
      "metadata": {
        "id": "fj_EqKOrn_LJ"
      },
      "execution_count": null,
      "outputs": []
    },
    {
      "cell_type": "code",
      "source": [
        "for mascota in mascotas:\n",
        "  print(mascota.hable())"
      ],
      "metadata": {
        "colab": {
          "base_uri": "https://localhost:8080/"
        },
        "id": "cFXKacjMoYT_",
        "outputId": "edea6aa5-6808-42d0-d28f-0f12991ead5f"
      },
      "execution_count": null,
      "outputs": [
        {
          "output_type": "stream",
          "name": "stdout",
          "text": [
            "Woof\n",
            "Miau\n",
            "Muuu\n",
            "Pioo\n"
          ]
        }
      ]
    },
    {
      "cell_type": "code",
      "source": [
        "class Persona:\n",
        "  def __init__(self, nombre, edad):\n",
        "    self.nombre = nombre\n",
        "    self.edad = edad\n"
      ],
      "metadata": {
        "id": "ueeMCoINqAsL"
      },
      "execution_count": null,
      "outputs": []
    },
    {
      "cell_type": "code",
      "source": [
        "Daniela = Persona(\"Daniela\", 21)"
      ],
      "metadata": {
        "id": "NJlOAzAYrXL1"
      },
      "execution_count": null,
      "outputs": []
    },
    {
      "cell_type": "code",
      "source": [
        "Daniela.nombre"
      ],
      "metadata": {
        "colab": {
          "base_uri": "https://localhost:8080/",
          "height": 35
        },
        "id": "1jnvkxKGrhXW",
        "outputId": "ff309b95-d4e2-4ea6-c33c-e232657d8ab5"
      },
      "execution_count": null,
      "outputs": [
        {
          "output_type": "execute_result",
          "data": {
            "text/plain": [
              "'Daniela'"
            ],
            "application/vnd.google.colaboratory.intrinsic+json": {
              "type": "string"
            }
          },
          "metadata": {},
          "execution_count": 49
        }
      ]
    },
    {
      "cell_type": "code",
      "source": [
        "Daniela.edad"
      ],
      "metadata": {
        "colab": {
          "base_uri": "https://localhost:8080/"
        },
        "id": "yHRVyQtcrp8-",
        "outputId": "79dda8d7-a830-488d-979a-dec97f544adc"
      },
      "execution_count": null,
      "outputs": [
        {
          "output_type": "execute_result",
          "data": {
            "text/plain": [
              "21"
            ]
          },
          "metadata": {},
          "execution_count": 51
        }
      ]
    },
    {
      "cell_type": "code",
      "source": [],
      "metadata": {
        "id": "UVirYoLJsIvA"
      },
      "execution_count": null,
      "outputs": []
    }
  ]
}