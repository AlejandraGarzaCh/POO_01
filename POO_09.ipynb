{
  "nbformat": 4,
  "nbformat_minor": 0,
  "metadata": {
    "colab": {
      "provenance": []
    },
    "kernelspec": {
      "name": "python3",
      "display_name": "Python 3"
    },
    "language_info": {
      "name": "python"
    }
  },
  "cells": [
    {
      "cell_type": "code",
      "execution_count": 1,
      "metadata": {
        "id": "mqSA-HGovKZc"
      },
      "outputs": [],
      "source": [
        "#Abstract classes and inheritance"
      ]
    },
    {
      "cell_type": "code",
      "source": [
        "class MichaelPhelps():\n",
        "  def __init__(self):\n",
        "    print (\"La clase Michael Phelps se ha creado\")\n",
        "  def guess_who(self):\n",
        "    print (\"Yo soy Michael Phelps\")\n",
        "  def medallas(self):\n",
        "    print (\"Llevo 28 medallas olimpicas\")\n",
        "\n"
      ],
      "metadata": {
        "id": "RqKy40MDvkKs"
      },
      "execution_count": 2,
      "outputs": []
    },
    {
      "cell_type": "code",
      "source": [
        "michael = MichaelPhelps()\n",
        "michael"
      ],
      "metadata": {
        "colab": {
          "base_uri": "https://localhost:8080/"
        },
        "id": "9azMtnQqwJD2",
        "outputId": "393d1f25-a94e-4da4-b17b-bcde6d626ec9"
      },
      "execution_count": 3,
      "outputs": [
        {
          "output_type": "stream",
          "name": "stdout",
          "text": [
            "La clase Michael Phelps se ha creado\n"
          ]
        },
        {
          "output_type": "execute_result",
          "data": {
            "text/plain": [
              "<__main__.MichaelPhelps at 0x7fe108b91600>"
            ]
          },
          "metadata": {},
          "execution_count": 3
        }
      ]
    },
    {
      "cell_type": "code",
      "source": [
        "michael.guess_who()"
      ],
      "metadata": {
        "colab": {
          "base_uri": "https://localhost:8080/"
        },
        "id": "LQrH97vFwNxA",
        "outputId": "a5ea55f0-b287-4a4f-d243-956f50e712ef"
      },
      "execution_count": 5,
      "outputs": [
        {
          "output_type": "stream",
          "name": "stdout",
          "text": [
            "Yo soy Michael Phelps\n"
          ]
        }
      ]
    },
    {
      "cell_type": "code",
      "source": [
        "michael.medallas()"
      ],
      "metadata": {
        "colab": {
          "base_uri": "https://localhost:8080/"
        },
        "id": "VC3UGZT0wQDc",
        "outputId": "99e844c9-bd81-4a3c-a1c4-1b954ba3a4cf"
      },
      "execution_count": 6,
      "outputs": [
        {
          "output_type": "stream",
          "name": "stdout",
          "text": [
            "Llevo 28 medallas olimpicas\n"
          ]
        }
      ]
    },
    {
      "cell_type": "code",
      "source": [
        "# Nueva clase con polimorfismos para Michael Phelps\n",
        "\n",
        "class Michael_medallas():\n",
        "  def __init__(self, name, medallas, nacimiento):\n",
        "    self.name = name\n",
        "    self.medallas = medallas\n",
        "    self.nacimiento = nacimiento\n",
        "\n",
        "  def nombre(self):\n",
        "    return self.name + \"Soy Michael Phelps \"\n",
        "  def medallas(self):\n",
        "    return self.medallas + \"28\"\n",
        "  def nacimiento(self):\n",
        "    return self.nacimiento + \"30 de junio\"\n",
        ""
      ],
      "metadata": {
        "id": "8abonRkkwpah"
      },
      "execution_count": 9,
      "outputs": []
    },
    {
      "cell_type": "code",
      "source": [
        "michaelp = Michael_medallas(\"Michael\", 28, 30)\n",
        "michaelp"
      ],
      "metadata": {
        "colab": {
          "base_uri": "https://localhost:8080/"
        },
        "id": "nX_QBaUWxgxX",
        "outputId": "4a78e6a5-69f9-4b5d-9301-e3b6f5fec956"
      },
      "execution_count": 11,
      "outputs": [
        {
          "output_type": "execute_result",
          "data": {
            "text/plain": [
              "<__main__.Michael_medallas at 0x7fe108b92f20>"
            ]
          },
          "metadata": {},
          "execution_count": 11
        }
      ]
    },
    {
      "cell_type": "code",
      "source": [
        "michaelp.name"
      ],
      "metadata": {
        "colab": {
          "base_uri": "https://localhost:8080/",
          "height": 35
        },
        "id": "VahaFRV3xwCE",
        "outputId": "e2f28c96-82a7-4bef-fa5b-84fab2c92511"
      },
      "execution_count": 13,
      "outputs": [
        {
          "output_type": "execute_result",
          "data": {
            "text/plain": [
              "'Michael'"
            ],
            "application/vnd.google.colaboratory.intrinsic+json": {
              "type": "string"
            }
          },
          "metadata": {},
          "execution_count": 13
        }
      ]
    },
    {
      "cell_type": "code",
      "source": [
        "michael.medallas"
      ],
      "metadata": {
        "colab": {
          "base_uri": "https://localhost:8080/"
        },
        "id": "_DI_sLHax0Y1",
        "outputId": "41d13945-0f40-4001-8378-17fd3e5f1409"
      },
      "execution_count": 15,
      "outputs": [
        {
          "output_type": "execute_result",
          "data": {
            "text/plain": [
              "<bound method MichaelPhelps.medallas of <__main__.MichaelPhelps object at 0x7fe108b91600>>"
            ]
          },
          "metadata": {},
          "execution_count": 15
        }
      ]
    }
  ]
}